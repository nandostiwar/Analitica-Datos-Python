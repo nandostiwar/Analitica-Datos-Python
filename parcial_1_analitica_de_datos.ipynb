{
  "nbformat": 4,
  "nbformat_minor": 0,
  "metadata": {
    "colab": {
      "provenance": [],
      "authorship_tag": "ABX9TyMYjPgnRyIO6cvtOsB6hY4A",
      "include_colab_link": true
    },
    "kernelspec": {
      "name": "python3",
      "display_name": "Python 3"
    },
    "language_info": {
      "name": "python"
    }
  },
  "cells": [
    {
      "cell_type": "markdown",
      "metadata": {
        "id": "view-in-github",
        "colab_type": "text"
      },
      "source": [
        "<a href=\"https://colab.research.google.com/github/nandostiwar/Analitica-Datos-Python/blob/jerson-herrera/parcial_1_analitica_de_datos.ipynb\" target=\"_parent\"><img src=\"https://colab.research.google.com/assets/colab-badge.svg\" alt=\"Open In Colab\"/></a>"
      ]
    },
    {
      "cell_type": "code",
      "source": [
        "# 1 y 2 importar y validar datos\n",
        "import itertools\n",
        "import numpy as np\n",
        "import pandas as pd\n",
        "DatasetName = \"/content/iris.data\"\n",
        "Data = pd.read_csv(DatasetName, sep=',', header=None)\n",
        "\n",
        "Data.head()\n",
        "\n"
      ],
      "metadata": {
        "id": "LkkSgkvVMB6H"
      },
      "execution_count": null,
      "outputs": []
    },
    {
      "cell_type": "code",
      "source": [
        "#3. Separar por clases\n",
        "\n",
        "# Número de muestras por clase\n",
        "NumSamples = Data.shape[0]\n",
        "\n",
        "\n",
        "Clase1 = Data.loc[Data[4] == 'Iris-setosa']\n",
        "Clase2 = Data.loc[Data[4] == 'Iris-versicolor']\n",
        "Clase3 = Data.loc[Data[4] == 'Iris-virginica']\n",
        "\n",
        "\n",
        "NumSamplesClass1 = Clase1.shape[0]\n",
        "NumSamplesClass2 = Clase2.shape[0]\n",
        "NumSamplesClass3 = Clase3.shape[0]\n",
        "\n",
        "print('Número de muestras totales: ', NumSamples)\n",
        "print('Número de muestras por clase 1: ',NumSamplesClass1,' (',100*NumSamplesClass1/NumSamples,' %)')\n",
        "print('Número de muestras por clase 2: '+str(NumSamplesClass2)+' ('+str(round(100*NumSamplesClass2/NumSamples))+' %)')\n",
        "print('Número de muestras por clase 3: '+str(NumSamplesClass3)+' ('+str(round(100*NumSamplesClass3/NumSamples))+' %)')\n",
        "\n"
      ],
      "metadata": {
        "id": "De_8JvVGNCd0"
      },
      "execution_count": null,
      "outputs": []
    },
    {
      "cell_type": "code",
      "source": [
        "#4.Cambio de datos a tipo numpy\n",
        "DataAsNumpy = np.concatenate((Clase1.values, Clase2.values, Clase3.values), axis=0)\n",
        "\n",
        "X = DataAsNumpy[:, 0:4]\n",
        "Y = DataAsNumpy[:, 4]\n",
        "\n",
        "print(X)\n",
        "print(Y)"
      ],
      "metadata": {
        "id": "-fN68FBmTdZ1"
      },
      "execution_count": null,
      "outputs": []
    },
    {
      "cell_type": "code",
      "source": [
        "#5.1 Max y Min de cada atributo\n",
        "#MAX\n",
        "maximo_column0 = np.max(X[:,0])\n",
        "maximo_column1 = np.max(X[:,1])\n",
        "maximo_column2 = np.max(X[:,2])\n",
        "maximo_column3 = np.max(X[:,3])\n",
        "\n",
        "#MIN\n",
        "minimo_column0 = np.min(X[:,0])\n",
        "minimo_column1 = np.min(X[:,1])\n",
        "minimo_column2 = np.min(X[:,2])\n",
        "minimo_column3 = np.min(X[:,3])\n",
        "\n",
        "print(\"Estos son los valores máximos por columna:\")\n",
        "print(\"El numero maximo de la columna 0 es: \",maximo_column0)\n",
        "print(\"El numero maximo de la columna 1 es: \",maximo_column1)\n",
        "print(\"El numero maximo de la columna 2 es: \",maximo_column2)\n",
        "print(\"El numero maximo de la columna 3 es: \",maximo_column3)\n",
        "print()\n",
        "\n",
        "print(\"Estos son los valores minimod por columna:\")\n",
        "print(\"El numero minimo de la columna 0 es: \",minimo_column0)\n",
        "print(\"El numero minimo de la columna 1 es: \",minimo_column1)\n",
        "print(\"El numero minimo de la columna 2 es: \",minimo_column2)\n",
        "print(\"El numero minimo de la columna 3 es: \",minimo_column3)\n",
        "print()\n",
        "\n"
      ],
      "metadata": {
        "id": "3pww0gUDVnTV"
      },
      "execution_count": null,
      "outputs": []
    },
    {
      "cell_type": "code",
      "source": [
        "#5.2 Vector en linea del 3x3 apartir de la segunda clase(versicolor)\n",
        "\n",
        "filas_solicitadas = Data.iloc[50:53].copy()\n",
        "versicolor = filas_solicitadas.to_numpy()\n",
        "print(versicolor,\"\\n\")"
      ],
      "metadata": {
        "colab": {
          "base_uri": "https://localhost:8080/"
        },
        "id": "0nx9gkAXacug",
        "outputId": "3423421b-77fa-4aff-b5f3-bcfba6ca10fe"
      },
      "execution_count": 63,
      "outputs": [
        {
          "output_type": "stream",
          "name": "stdout",
          "text": [
            "[[7.0 3.2 4.7 1.4 'Iris-versicolor']\n",
            " [6.4 3.2 4.5 1.5 'Iris-versicolor']\n",
            " [6.9 3.1 4.9 1.5 'Iris-versicolor']] \n",
            "\n"
          ]
        }
      ]
    }
  ]
}